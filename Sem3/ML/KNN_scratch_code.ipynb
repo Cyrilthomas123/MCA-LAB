{
  "nbformat": 4,
  "nbformat_minor": 0,
  "metadata": {
    "colab": {
      "provenance": []
    },
    "kernelspec": {
      "name": "python3",
      "display_name": "Python 3"
    },
    "language_info": {
      "name": "python"
    }
  },
  "cells": [
    {
      "cell_type": "code",
      "execution_count": null,
      "metadata": {
        "colab": {
          "base_uri": "https://localhost:8080/"
        },
        "id": "9jkzMCGgEWwQ",
        "outputId": "e3f041da-f023-4ac9-c771-02600669f84e"
      },
      "outputs": [
        {
          "output_type": "stream",
          "name": "stdout",
          "text": [
            "enter details2 3 2 3\n",
            "enter k value3\n",
            "the predicted class is:Setosa\n"
          ]
        }
      ],
      "source": [
        "import csv\n",
        "import math\n",
        "def loaddat(iris):\n",
        "  datas = []\n",
        "  with open(iris, 'r') as file:\n",
        "    csv_reader = csv.reader(file)\n",
        "    next(csv_reader)\n",
        "    for row in csv_reader:\n",
        "      features = [float(row[0]), float(row[1]), float(row[2]), float(row[3])]\n",
        "      label = row[4]\n",
        "      datas.append((features, label))\n",
        "  return datas\n",
        "\n",
        "\n",
        "def knnmeth(traindata,points,k):\n",
        "  dist=[]\n",
        "  for datas in traindata:\n",
        "    dista=eucl_dist(datas,points)\n",
        "    dist.append((dista, datas[1]))\n",
        "  dist.sort()\n",
        "  classvotes = {}\n",
        "  max_votes = 0\n",
        "  for i in range(k):\n",
        "      label = dist[i][1]\n",
        "      classvotes[label] = classvotes.get(label, 0) + 1\n",
        "  predictclass = None\n",
        "  for label, votes in classvotes.items():\n",
        "      if votes > max_votes:\n",
        "          max_votes = votes\n",
        "          predictedclass = label\n",
        "\n",
        "  return predictedclass\n",
        "\n",
        "def eucl_dist(da, po):\n",
        "  sumsq = 0.0\n",
        "  dc=da[0]\n",
        "  for i in range(4):\n",
        "      sumsq += (dc[i] - po[i]) ** 2\n",
        "  return math.sqrt(sumsq)\n",
        "\n",
        "\n",
        "dataset = loaddat('/content/iris.csv')\n",
        "datapoints = list(map(float,input(\"enter details\").split(\" \")))\n",
        "k=int(input(\"enter k value\"))\n",
        "prediction = knnmeth(dataset,datapoints,k)\n",
        "print(f\"the predicted class is:{prediction}\")"
      ]
    }
  ]
}